{
  "nbformat": 4,
  "nbformat_minor": 0,
  "metadata": {
    "colab": {
      "name": "covid19-xray.ipynb",
      "provenance": [],
      "collapsed_sections": [],
      "toc_visible": true,
      "include_colab_link": true
    },
    "kernelspec": {
      "name": "python3",
      "display_name": "Python 3"
    },
    "accelerator": "TPU"
  },
  "cells": [
    {
      "cell_type": "markdown",
      "metadata": {
        "id": "view-in-github",
        "colab_type": "text"
      },
      "source": [
        "<a href=\"https://colab.research.google.com/github/cvillad/covid_xray_model/blob/master/covid19_xray.ipynb\" target=\"_parent\"><img src=\"https://colab.research.google.com/assets/colab-badge.svg\" alt=\"Open In Colab\"/></a>"
      ]
    },
    {
      "cell_type": "markdown",
      "metadata": {
        "id": "vJTrqWP32zOe",
        "colab_type": "text"
      },
      "source": [
        "# Install and Import important libraries"
      ]
    },
    {
      "cell_type": "code",
      "metadata": {
        "id": "xn5aWUC7q3t7",
        "colab_type": "code",
        "colab": {}
      },
      "source": [
        "!pip install -q -U tqdm"
      ],
      "execution_count": 0,
      "outputs": []
    },
    {
      "cell_type": "code",
      "metadata": {
        "id": "NVHd-Xkgy3R_",
        "colab_type": "code",
        "outputId": "95c759cb-3f6c-4349-ef2f-bb83ecd27e06",
        "colab": {
          "base_uri": "https://localhost:8080/",
          "height": 87
        }
      },
      "source": [
        "import os\n",
        "import matplotlib.pyplot as plt\n",
        "import seaborn as sns\n",
        "import pandas as pd\n",
        "import numpy as np\n",
        "import random\n",
        "import shutil\n",
        "import cv2\n",
        "\n",
        "!pip install imutils\n",
        "\n",
        "from imutils import paths\n",
        "from tqdm import tqdm\n",
        "import warnings\n",
        "\n",
        "%matplotlib inline"
      ],
      "execution_count": 0,
      "outputs": [
        {
          "output_type": "stream",
          "text": [
            "/usr/local/lib/python3.6/dist-packages/statsmodels/tools/_testing.py:19: FutureWarning: pandas.util.testing is deprecated. Use the functions in the public API at pandas.testing instead.\n",
            "  import pandas.util.testing as tm\n"
          ],
          "name": "stderr"
        },
        {
          "output_type": "stream",
          "text": [
            "Requirement already satisfied: imutils in /usr/local/lib/python3.6/dist-packages (0.5.3)\n"
          ],
          "name": "stdout"
        }
      ]
    },
    {
      "cell_type": "code",
      "metadata": {
        "id": "Pror6Z7eYREf",
        "colab_type": "code",
        "colab": {}
      },
      "source": [
        "warnings.filterwarnings(action=\"ignore\")"
      ],
      "execution_count": 0,
      "outputs": []
    },
    {
      "cell_type": "code",
      "metadata": {
        "id": "naupvuep57hr",
        "colab_type": "code",
        "outputId": "bc469bf2-6bbf-4873-b467-24a063637258",
        "colab": {
          "base_uri": "https://localhost:8080/",
          "height": 34
        }
      },
      "source": [
        "from google.colab import drive\n",
        "drive.mount('/content/gdrive')\n",
        "\n",
        "dataset_path = '/content/gdrive/Shared drives/Data Mining Project/dataset'"
      ],
      "execution_count": 0,
      "outputs": [
        {
          "output_type": "stream",
          "text": [
            "Drive already mounted at /content/gdrive; to attempt to forcibly remount, call drive.mount(\"/content/gdrive\", force_remount=True).\n"
          ],
          "name": "stdout"
        }
      ]
    },
    {
      "cell_type": "markdown",
      "metadata": {
        "id": "ALsRahDA2Fw_",
        "colab_type": "text"
      },
      "source": [
        "# Loading the dataset"
      ]
    },
    {
      "cell_type": "code",
      "metadata": {
        "id": "bUMw2d5RY_8s",
        "colab_type": "code",
        "outputId": "91555052-1509-4390-edc4-d5b965ba169c",
        "colab": {
          "base_uri": "https://localhost:8080/",
          "height": 34
        }
      },
      "source": [
        "imagePaths = list(paths.list_images(dataset_path))\n",
        "\n",
        "labels = []\n",
        "data = []\n",
        "\n",
        "# loop over the image paths\n",
        "with tqdm(total = len(imagePaths)) as pbar:\n",
        "  for imagePath in imagePaths: \n",
        "      # extract the class label from the filename\n",
        "      #if imagePath.split(os.path.sep)[-2]==\"pneumonia\":\n",
        "      # continue\n",
        "      label = imagePath.split(os.path.sep)[-2]\n",
        "      # load the image, swap color channels, and resize it to be a fixed\n",
        "      # 224x224 pixels while ignoring aspect ratio\n",
        "      image = cv2.imread(imagePath)\n",
        "      image = cv2.resize(image, (224, 224))\n",
        "      image = cv2.cvtColor(image, cv2.COLOR_BGR2GRAY)\n",
        "      image = image.reshape(1,-1)\n",
        "      # update the data and labels lists, respectively\n",
        "      data.append(image.reshape(-1))\n",
        "      labels.append(label)\n",
        "      pbar.update(1)\n",
        "# convert the data and labels to NumPy arrays while scaling the pixel\n",
        "# intensities to the range [0, 1]\n",
        "labels = np.array(labels)\n",
        "data = np.array(data)/255"
      ],
      "execution_count": 0,
      "outputs": [
        {
          "output_type": "stream",
          "text": [
            "100%|██████████| 426/426 [00:12<00:00, 35.18it/s]\n"
          ],
          "name": "stderr"
        }
      ]
    },
    {
      "cell_type": "markdown",
      "metadata": {
        "id": "Uw9HmjXH2I1J",
        "colab_type": "text"
      },
      "source": [
        "## Transforming the labels into onehot representation"
      ]
    },
    {
      "cell_type": "code",
      "metadata": {
        "id": "d_IbffinaKIJ",
        "colab_type": "code",
        "colab": {}
      },
      "source": [
        "from sklearn.preprocessing import LabelBinarizer\n",
        "\n",
        "lb = LabelBinarizer()\n",
        "labels = lb.fit_transform(labels)"
      ],
      "execution_count": 0,
      "outputs": []
    },
    {
      "cell_type": "markdown",
      "metadata": {
        "id": "y5M4Q0ja2OQr",
        "colab_type": "text"
      },
      "source": [
        "## Splitting the dataset (Train, Val) with a proportion 70%-30%"
      ]
    },
    {
      "cell_type": "code",
      "metadata": {
        "id": "sOyZvBL6BX1c",
        "colab_type": "code",
        "colab": {}
      },
      "source": [
        "random_seed=42\n",
        "from sklearn.model_selection import train_test_split\n",
        "\n",
        "(X_train, X_val, y_train, y_val) = train_test_split(data, labels, test_size=0.3, stratify=labels, random_state=random_seed)"
      ],
      "execution_count": 0,
      "outputs": []
    },
    {
      "cell_type": "markdown",
      "metadata": {
        "id": "e9T0xW16iSZI",
        "colab_type": "text"
      },
      "source": [
        "## Preprocess using sobel operator"
      ]
    },
    {
      "cell_type": "code",
      "metadata": {
        "id": "HsMGaqmQiRaY",
        "colab_type": "code",
        "outputId": "35ac8692-a375-4491-a2a4-467105e526c4",
        "colab": {
          "base_uri": "https://localhost:8080/",
          "height": 50
        }
      },
      "source": [
        "import cv2\n",
        "\n",
        "X_train_hist = np.zeros(shape=X_train.shape)\n",
        "X_val_hist = np.zeros(shape=X_val.shape)\n",
        "\n",
        "for i in tqdm(range(X_train.shape[0])):\n",
        "    img = np.float32(X_train[i])\n",
        "    gx = cv2.Sobel(img, cv2.CV_32F, 1, 0, ksize=1)\n",
        "    gy = cv2.Sobel(img, cv2.CV_32F, 0, 1, ksize=1)\n",
        "    mag, angle = cv2.cartToPolar(gx, gy, angleInDegrees=True)\n",
        "    X_train_hist[i] = mag.reshape(-1)\n",
        "\n",
        "for i in tqdm(range(X_val.shape[0])):\n",
        "    img = np.float32(X_val[i])\n",
        "    gx = cv2.Sobel(img, cv2.CV_32F, 1, 0, ksize=1)\n",
        "    gy = cv2.Sobel(img, cv2.CV_32F, 0, 1, ksize=1)\n",
        "    mag, angle = cv2.cartToPolar(gx, gy, angleInDegrees=True)\n",
        "    X_val_hist[i] = mag.reshape(-1)"
      ],
      "execution_count": 0,
      "outputs": [
        {
          "output_type": "stream",
          "text": [
            "100%|██████████| 298/298 [00:02<00:00, 144.38it/s]\n",
            "100%|██████████| 128/128 [00:00<00:00, 146.71it/s]\n"
          ],
          "name": "stderr"
        }
      ]
    },
    {
      "cell_type": "markdown",
      "metadata": {
        "id": "Ep7yj0npvAUN",
        "colab_type": "text"
      },
      "source": [
        ""
      ]
    },
    {
      "cell_type": "code",
      "metadata": {
        "id": "PcyKwFshiR6n",
        "colab_type": "code",
        "outputId": "54acee4e-dc22-4bb7-a1d3-6ef5d8d51446",
        "colab": {
          "base_uri": "https://localhost:8080/",
          "height": 183
        }
      },
      "source": [
        "plt.subplot(1,2,1)\n",
        "plt.imshow(X_train[1].reshape(224,224))\n",
        "plt.axis('off')\n",
        "plt.subplot(1,2,2)\n",
        "plt.imshow(X_train_hist[1].reshape(224,224))\n",
        "plt.axis('off')\n",
        "plt.show()"
      ],
      "execution_count": 0,
      "outputs": [
        {
          "output_type": "display_data",
          "data": {
            "image/png": "[encoded data removed]",
            "text/plain": [
              "<Figure size 432x288 with 2 Axes>"
            ]
          },
          "metadata": {
            "tags": [],
            "needs_background": "light"
          }
        }
      ]
    },
    {
      "cell_type": "code",
      "metadata": {
        "id": "Bwf-3JD5kdIK",
        "colab_type": "code",
        "outputId": "cc4a6958-fa6a-493c-d629-b4fdcc78c970",
        "colab": {
          "base_uri": "https://localhost:8080/",
          "height": 183
        }
      },
      "source": [
        "plt.subplot(1,2,1)\n",
        "plt.imshow(X_val[1].reshape(224,224))\n",
        "plt.axis('off')\n",
        "plt.subplot(1,2,2)\n",
        "plt.imshow(X_val_hist[1].reshape(224,224))\n",
        "plt.axis('off')\n",
        "plt.show()"
      ],
      "execution_count": 0,
      "outputs": [
        {
          "output_type": "display_data",
          "data": {
            "image/png": "[encoded data removed]",
            "text/plain": [
              "<Figure size 432x288 with 2 Axes>"
            ]
          },
          "metadata": {
            "tags": [],
            "needs_background": "light"
          }
        }
      ]
    },
    {
      "cell_type": "markdown",
      "metadata": {
        "id": "R5rTQZlE2Y7b",
        "colab_type": "text"
      },
      "source": [
        "## Visualize dataset"
      ]
    },
    {
      "cell_type": "code",
      "metadata": {
        "id": "MMtfBlWfy6yA",
        "colab_type": "code",
        "colab": {}
      },
      "source": [
        "# plt parameters\n",
        "plt.rcParams['image.interpolation'] = 'nearest'\n",
        "plt.rcParams['image.cmap'] = 'gray'"
      ],
      "execution_count": 0,
      "outputs": []
    },
    {
      "cell_type": "code",
      "metadata": {
        "id": "0qmwSloPv2Ya",
        "colab_type": "code",
        "colab": {}
      },
      "source": [
        "def show_random_samples_images(X, Y, samples_per_class=5, width=5, height=5):\n",
        "    \"\"\"\n",
        "    Show some random photos of each class\n",
        "    Args:\n",
        "        X -- Data containg each images in the rows, [m x f], \n",
        "            m - image of flatten vector \n",
        "            f - each pixel of the image\n",
        "        Y -- Labels with one hot, there are three classes\n",
        "            [1,0,0] - class 0 - covid\n",
        "            [0,1,0] - class 1 - normal\n",
        "            [0,0,1] - class 2 - pneumonía\n",
        "        samples_per_class -- Number of images we are going to plot for each class\n",
        "        width -- Indicate the width of the plot\n",
        "        height -- Indicate the height of the plot\n",
        "    \"\"\"\n",
        "    # Transforms labels in a vector of 0,1,2\n",
        "    plt.figure(figsize=(width, height))\n",
        "    labels = np.array([one_hot_label.argmax() for one_hot_label in tqdm(Y, desc=\"Getting labels\")]) \n",
        "    classes = [\"covid\", \"normal\", \"pneumonía\"]\n",
        "    num_classes = len(classes)\n",
        "    for y, cls in tqdm(enumerate(classes), desc=\"Generating plots\"):\n",
        "        idxs = np.flatnonzero(labels == y)\n",
        "        idxs = np.random.choice(idxs, samples_per_class, replace=False)\n",
        "        for i, idx in enumerate(idxs):\n",
        "            plt_idx = i*num_classes+y+1\n",
        "            plt.subplot(samples_per_class, num_classes, plt_idx)\n",
        "            plt.imshow(X[idx].reshape(224,224))\n",
        "            plt.axis('off')\n",
        "            if i==0:\n",
        "                plt.title(cls)\n",
        "    plt.tight_layout()\n",
        "    plt.show()"
      ],
      "execution_count": 0,
      "outputs": []
    },
    {
      "cell_type": "code",
      "metadata": {
        "id": "99EeW65Sj3T6",
        "colab_type": "code",
        "colab": {}
      },
      "source": [
        "show_random_samples_images(X_train, y_train)"
      ],
      "execution_count": 0,
      "outputs": []
    },
    {
      "cell_type": "markdown",
      "metadata": {
        "id": "z658q1Vo2qEr",
        "colab_type": "text"
      },
      "source": [
        "## Viewing some statistics of our dataset"
      ]
    },
    {
      "cell_type": "code",
      "metadata": {
        "id": "BDLQUG8v2wOo",
        "colab_type": "code",
        "colab": {}
      },
      "source": [
        "def bar_plot_data_distribution(Y, width=10, height=10, target=\"train\"):\n",
        "    \"\"\"\n",
        "    Visualize the data distribution of our dataset, using bar plots\n",
        "    of each class\n",
        "    Args:\n",
        "        Y -- Labels with one hot, there are three classes\n",
        "            [1,0,0] - class 0 - covid\n",
        "            [0,1,0] - class 1 - normal\n",
        "            [0,0,1] - class 2 - pneumonía\n",
        "        width -- Indicate the width of the plot\n",
        "        height -- Indicate the height of the plot\n",
        "        target -- from what distribution is Y, train or val?\n",
        "    \"\"\"\n",
        "    sns.set(style=\"whitegrid\")\n",
        "    plt.figure(figsize=(width, height))\n",
        "    labels = np.array([one_hot_label.argmax() for one_hot_label in tqdm(Y, desc=\"Getting labels\")])\n",
        "    classes = [\"covid\", \"normal\", \"pneumonía\"]\n",
        "    distribution = [np.sum(labels == y) for y, _ in tqdm(enumerate(classes), desc=\"Getting Distributions\")]\n",
        "    sns.barplot(classes, y=distribution, orient=\"v\", palette=\"Blues_d\")\n",
        "    plt.title(\"Class Distribution for each label in {0} set\".format(target.upper()))\n",
        "    plt.show()"
      ],
      "execution_count": 0,
      "outputs": []
    },
    {
      "cell_type": "code",
      "metadata": {
        "id": "bVAp2c564YqH",
        "colab_type": "code",
        "colab": {}
      },
      "source": [
        "bar_plot_data_distribution(y_train)"
      ],
      "execution_count": 0,
      "outputs": []
    },
    {
      "cell_type": "code",
      "metadata": {
        "id": "nW93vPXW6LR9",
        "colab_type": "code",
        "colab": {}
      },
      "source": [
        "bar_plot_data_distribution(y_val, target=\"val\")\n"
      ],
      "execution_count": 0,
      "outputs": []
    },
    {
      "cell_type": "markdown",
      "metadata": {
        "id": "iznX7XfB583o",
        "colab_type": "text"
      },
      "source": [
        "As you can see our data have a good proportion of samples between each class"
      ]
    },
    {
      "cell_type": "markdown",
      "metadata": {
        "id": "qZPyKZOS2hoY",
        "colab_type": "text"
      },
      "source": [
        "# Neural network"
      ]
    },
    {
      "cell_type": "markdown",
      "metadata": {
        "id": "FPR5sOaTvQaJ",
        "colab_type": "text"
      },
      "source": [
        "Initializing parameters"
      ]
    },
    {
      "cell_type": "code",
      "metadata": {
        "id": "FEIclOjatbOp",
        "colab_type": "code",
        "colab": {}
      },
      "source": [
        "def initialize_parameters_he(layers_dims):\n",
        "    \"\"\"\n",
        "    Arguments:\n",
        "    layer_dims -- python array (list) containing the size of each layer.\n",
        "\n",
        "    Returns:\n",
        "    parameters -- python dictionary containing your parameters \"W1\", \"b1\", ..., \"WL\", \"bL\":\n",
        "                    W1 -- weight matrix of shape (layers_dims[1], layers_dims[0])\n",
        "                    b1 -- bias vector of shape (layers_dims[1], 1)\n",
        "                    ...\n",
        "                    WL -- weight matrix of shape (layers_dims[L], layers_dims[L-1])\n",
        "                    bL -- bias vector of shape (layers_dims[L], 1)\n",
        "    \"\"\"\n",
        "      \n",
        "    np.random.seed(3)\n",
        "    parameters = {}\n",
        "    L = len(layers_dims) - 1 # integer representing the number of layers\n",
        "        \n",
        "    for l in range(1, L + 1):\n",
        "        ### START CODE HERE ### (≈ 2 lines of code)\n",
        "        parameters['W' + str(l)] = np.random.randn(layers_dims[l], layers_dims[l-1]) * np.sqrt(2/layers_dims[l-1])\n",
        "        parameters['b' + str(l)] = np.zeros(shape = (layers_dims[l], 1))\n",
        "        ### END CODE HERE ###\n",
        "        \n",
        "    return parameters"
      ],
      "execution_count": 0,
      "outputs": []
    },
    {
      "cell_type": "markdown",
      "metadata": {
        "id": "Xz_zfxFSvWG1",
        "colab_type": "text"
      },
      "source": [
        "Test case for initialize parameters\n"
      ]
    },
    {
      "cell_type": "code",
      "metadata": {
        "id": "DGfa2TSMv7yM",
        "colab_type": "code",
        "outputId": "27aa89a2-f256-4e79-ba3d-e113145056fa",
        "colab": {
          "base_uri": "https://localhost:8080/",
          "height": 84
        }
      },
      "source": [
        "layers_dims = [X_train_hist.shape[1], 200, 3]\n",
        "parameters=initialize_parameters_he(layers_dims)\n",
        "for param, param_value in parameters.items():\n",
        "    print(param, param_value.shape)"
      ],
      "execution_count": 0,
      "outputs": [
        {
          "output_type": "stream",
          "text": [
            "W1 (200, 50176)\n",
            "b1 (200, 1)\n",
            "W2 (3, 200)\n",
            "b2 (3, 1)\n"
          ],
          "name": "stdout"
        }
      ]
    },
    {
      "cell_type": "markdown",
      "metadata": {
        "id": "VTYHlSImv888",
        "colab_type": "text"
      },
      "source": [
        "# Forward propagation"
      ]
    },
    {
      "cell_type": "markdown",
      "metadata": {
        "id": "kxtdqmh-wHrG",
        "colab_type": "text"
      },
      "source": [
        "Sigmoid and Relu activation functions"
      ]
    },
    {
      "cell_type": "code",
      "metadata": {
        "id": "VUz45iFetbF9",
        "colab_type": "code",
        "colab": {}
      },
      "source": [
        "def sigmoid(x):\n",
        "    s = 1/(1+np.exp(-x))\n",
        "    return s\n",
        "\n",
        "def relu(x):\n",
        "    s = np.maximum(0, x)\n",
        "    return s"
      ],
      "execution_count": 0,
      "outputs": []
    },
    {
      "cell_type": "markdown",
      "metadata": {
        "id": "9iDo3RdRwMkx",
        "colab_type": "text"
      },
      "source": [
        "Forward for one layer"
      ]
    },
    {
      "cell_type": "code",
      "metadata": {
        "id": "hSlqSzGaiPY3",
        "colab_type": "code",
        "colab": {}
      },
      "source": [
        "def activation_forward(A_prev,W,b,activation):\n",
        "  \"\"\"\n",
        "    Arguments:\n",
        "    A_prev -- numpy array containing Activation of each layer, input data in the first layer.\n",
        "    W -- Weights of current layer\n",
        "    b -- bias of current layer\n",
        "    activation -- activation function for current layer\n",
        "\n",
        "    Returns:\n",
        "    A -- numpy array containing Activation for the next layer\n",
        "    cache -- python array (list):\n",
        "              linear_cache -- containing A, W, b\n",
        "              activation_cache -- containing linear operation (Z)\n",
        "    \"\"\"\n",
        "  Z = np.dot(W, A_prev) + b\n",
        "  linear_cache=(A_prev,W,b)\n",
        "  activation_cache = Z\n",
        "  \n",
        "  if activation==\"relu\":\n",
        "    A = relu(Z)\n",
        "  elif activation==\"sigmoid\":\n",
        "    A = sigmoid(Z)\n",
        "\n",
        "  cache=(linear_cache,activation_cache)\n",
        "  return A, cache"
      ],
      "execution_count": 0,
      "outputs": []
    },
    {
      "cell_type": "markdown",
      "metadata": {
        "id": "KCdkijnUwf7Y",
        "colab_type": "text"
      },
      "source": [
        "Forward propatation "
      ]
    },
    {
      "cell_type": "code",
      "metadata": {
        "id": "z62S3zRmtbC3",
        "colab_type": "code",
        "colab": {}
      },
      "source": [
        "def forward_propagation(X, parameters):\n",
        "    #C_R = net(X.cuda()) # Using pytorch for backbone conv3d -> maxpool -> conv3d -> maxpool -> flatten\n",
        "    L=len(parameters)//2 #Number of layers\n",
        "    cache=[]\n",
        "\n",
        "    #C_R_copy = C_R.clone()\n",
        "    #C_R_copy = C_R_copy.detach().cpu().numpy().T\n",
        "    #print(\"Original: \",C_R,\" Copy: \",C_R_copy)\n",
        "    # Linear ->  Relu -> Linear -> Sigmoid\n",
        "    #z1 = np.dot(W1, C_R_copy) + b1 # Using pytorch for backbone\n",
        "    A=X.T\n",
        "    for l in range(1,L):\n",
        "      A_prev=A\n",
        "      A,current_cache=activation_forward(A_prev,parameters[\"W\"+str(l)],parameters[\"b\"+str(l)],\"relu\")\n",
        "      cache.append(current_cache)\n",
        "\n",
        "    AL,current_cache=activation_forward(A,parameters[\"W\"+str(L)],parameters[\"b\"+str(L)],\"sigmoid\")\n",
        "    cache.append(current_cache)\n",
        "    \n",
        "    return AL, cache"
      ],
      "execution_count": 0,
      "outputs": []
    },
    {
      "cell_type": "markdown",
      "metadata": {
        "id": "AjHZPsguxJOk",
        "colab_type": "text"
      },
      "source": [
        "Test case for forward propagation"
      ]
    },
    {
      "cell_type": "code",
      "metadata": {
        "id": "vSdAWtO9tbIz",
        "colab_type": "code",
        "colab": {}
      },
      "source": [
        "AL, cache = forward_propagation(X_train_hist, parameters) #forward propagation test\n",
        "for param, param_value in parameters.items():\n",
        "  print(param, param_value.shape)"
      ],
      "execution_count": 0,
      "outputs": []
    },
    {
      "cell_type": "markdown",
      "metadata": {
        "id": "k5QTmkI-xVS6",
        "colab_type": "text"
      },
      "source": [
        "# Backward propagation"
      ]
    },
    {
      "cell_type": "markdown",
      "metadata": {
        "id": "V6J1RKHmxlkx",
        "colab_type": "text"
      },
      "source": [
        "Functions for backward"
      ]
    },
    {
      "cell_type": "code",
      "metadata": {
        "id": "7HypRAK8wq5C",
        "colab_type": "code",
        "colab": {}
      },
      "source": [
        "def linear_backward(dZ, cache):\n",
        "    A_prev, W, b = cache\n",
        "    m = A_prev.shape[1]\n",
        "    dW = dZ@A_prev.T\n",
        "    db = np.sum(dZ, axis = 1, keepdims=True)\n",
        "    dA_prev = W.T@dZ\n",
        "    \n",
        "    return dA_prev, dW, db\n",
        "\n",
        "def activation_backward(dA, cache, activation):\n",
        "    linear_cache, Z = cache\n",
        "    if activation == \"relu\":\n",
        "        dZ=np.array(dA, copy=True) \n",
        "        dZ[Z <= 0] = 0\n",
        "        dA_prev, dW, db = linear_backward(dZ, linear_cache)\n",
        "        \n",
        "    elif activation == \"sigmoid\":\n",
        "        s = 1/(1+np.exp(-Z))\n",
        "        dZ = dA * s * (1-s)\n",
        "        dA_prev, dW, db = linear_backward(dZ, linear_cache)\n",
        "    \n",
        "    return dA_prev, dW, db"
      ],
      "execution_count": 0,
      "outputs": []
    },
    {
      "cell_type": "markdown",
      "metadata": {
        "id": "wGadUi51xz1C",
        "colab_type": "text"
      },
      "source": [
        "Backward propagation"
      ]
    },
    {
      "cell_type": "code",
      "metadata": {
        "id": "yb1ZvN2QtbAY",
        "colab_type": "code",
        "colab": {}
      },
      "source": [
        "def backward_propagation(AL, Y, cache):\n",
        "    L=len(cache)#number of layers\n",
        "    m = AL.shape[1]#number of examples\n",
        "    gradients={}\n",
        "    #(z1, a1, W1, b1, z2, a2, W2, b2, C_R, C_R_copy) = cache\n",
        "    #(z1, a1, W1, b1, z2, a2, W2, b2) = cache\n",
        "\n",
        "    \n",
        "    # dz2 = 1/m * (a2 - Y)\n",
        "    # dW2 = np.dot(dz2, a1.T)\n",
        "    # db2 = np.sum(dz2, axis=1, keepdims=True)\n",
        "\n",
        "    # da1 = np.dot(W2.T, dz2)\n",
        "    # dz1 = np.multiply(da1, np.int64(a1 > 0))\n",
        "    # dW1 = np.dot(dz1, X)\n",
        "    # #dW1 = np.dot(dz1, C_R_copy.T)\n",
        "    # db1 = np.sum(dz1, axis=1, keepdims=True)\n",
        "    current_cache=cache[L-1]\n",
        "\n",
        "    dAL = 1/m * (AL - Y)\n",
        "    gradients[\"dA\"+str(L-1)], gradients[\"dW\"+str(L)], gradients[\"db\"+str(L)] = activation_backward(dAL, current_cache, \"sigmoid\")\n",
        "\n",
        "    for l in reversed(range(1,L)):\n",
        "      current_cache = cache[l-1]\n",
        "      dA_prev_temp, dW_temp, db_temp = activation_backward(gradients[\"dA\" + str(l)], current_cache, \"relu\")\n",
        "\n",
        "      gradients[\"dA\" + str(l-1)] = dA_prev_temp\n",
        "      gradients[\"dW\" + str(l)] = dW_temp\n",
        "      gradients[\"db\" + str(l)] = db_temp\n",
        "    #daC = np.dot(W1.T, dz1)\n",
        "    #net.zero_grad()# Clean\n",
        "    #C_R.backward(torch.ones(m, 46656).cuda())\n",
        "    #C_R.backward(torch.Tensor(daC).cuda())\n",
        "\n",
        "    # gradients = {\"dz2\":dz2, \"dW2\":dW2, \"db2\":db2,\n",
        "    #              \"da1\":da1, \"dz1\":dz1, \"dW1\":dW1, \"db1\":db1}\n",
        "\n",
        "    return gradients"
      ],
      "execution_count": 0,
      "outputs": []
    },
    {
      "cell_type": "markdown",
      "metadata": {
        "id": "PNeBVnbhx-6A",
        "colab_type": "text"
      },
      "source": [
        "Test case for backward propagation"
      ]
    },
    {
      "cell_type": "code",
      "metadata": {
        "id": "z80G27sXL_ND",
        "colab_type": "code",
        "colab": {}
      },
      "source": [
        "gradients = backward_propagation(AL, y_train.T, cache)\n",
        "for grad_param, grad_result in gradients.items():\n",
        "    print(grad_param, grad_result.shape)"
      ],
      "execution_count": 0,
      "outputs": []
    },
    {
      "cell_type": "markdown",
      "metadata": {
        "id": "EWsWpDLIySqr",
        "colab_type": "text"
      },
      "source": [
        "# Loss function"
      ]
    },
    {
      "cell_type": "markdown",
      "metadata": {
        "id": "7oPS-hT4yCoT",
        "colab_type": "text"
      },
      "source": [
        "For computing loss of the neural network"
      ]
    },
    {
      "cell_type": "code",
      "metadata": {
        "id": "7ZE0r681L_Im",
        "colab_type": "code",
        "colab": {}
      },
      "source": [
        "def compute_loss(AL, Y):\n",
        "    m = Y.shape[1]\n",
        "    logprobs = - np.log(AL)*Y - np.log(1-AL)*(1-Y)\n",
        "    loss = 1/m * np.nansum(logprobs)\n",
        "    return loss"
      ],
      "execution_count": 0,
      "outputs": []
    },
    {
      "cell_type": "markdown",
      "metadata": {
        "id": "Ao4Y-QwAyO5K",
        "colab_type": "text"
      },
      "source": [
        "Test case for loss"
      ]
    },
    {
      "cell_type": "code",
      "metadata": {
        "id": "c_mC9vwkL_FP",
        "colab_type": "code",
        "outputId": "2a92c45b-6e04-4819-e943-5646168594ca",
        "colab": {
          "base_uri": "https://localhost:8080/",
          "height": 34
        }
      },
      "source": [
        "loss = compute_loss(AL[0:16], y_train.T[0:16])\n",
        "print(round(loss,4))"
      ],
      "execution_count": 0,
      "outputs": [
        {
          "output_type": "stream",
          "text": [
            "2.0847\n"
          ],
          "name": "stdout"
        }
      ]
    },
    {
      "cell_type": "markdown",
      "metadata": {
        "id": "ZU-9sB2Nyq25",
        "colab_type": "text"
      },
      "source": [
        "# Updating parameters"
      ]
    },
    {
      "cell_type": "markdown",
      "metadata": {
        "id": "OFZ3iTs1yZBE",
        "colab_type": "text"
      },
      "source": [
        "For update parameters (weights and bias) using Stochastic Gradient Descent (SGD)"
      ]
    },
    {
      "cell_type": "code",
      "metadata": {
        "id": "cncMToJTL_Ck",
        "colab_type": "code",
        "colab": {}
      },
      "source": [
        "def update_parameters(parameters, grads, learning_rate):\n",
        "    L = len(parameters) // 2 # number of layers in the neural network\n",
        "    #for f in net.parameters():\n",
        "     #   f.data.sub_(f.grad.data * learning_rate)\n",
        "\n",
        "    for l in range(1,L+1):\n",
        "        #print(parameters[\"W\" + str(l)].shape,\"-\",grads[\"dW\"+str(l)].shape,\"l: \",l)\n",
        "        parameters[\"W\" + str(l)] -= learning_rate*grads[\"dW\"+str(l)]\n",
        "        parameters[\"b\" + str(l)] -= learning_rate*grads[\"db\"+str(l)]\n",
        "    return parameters"
      ],
      "execution_count": 0,
      "outputs": []
    },
    {
      "cell_type": "markdown",
      "metadata": {
        "id": "azWIxH4IyzFV",
        "colab_type": "text"
      },
      "source": [
        "Test case for update parameters"
      ]
    },
    {
      "cell_type": "code",
      "metadata": {
        "id": "2m_ymTfVL-_c",
        "colab_type": "code",
        "colab": {}
      },
      "source": [
        "parameters = update_parameters(parameters, gradients, learning_rate=0.03)"
      ],
      "execution_count": 0,
      "outputs": []
    },
    {
      "cell_type": "markdown",
      "metadata": {
        "id": "VorOVRHxy5CG",
        "colab_type": "text"
      },
      "source": [
        "# Model train"
      ]
    },
    {
      "cell_type": "markdown",
      "metadata": {
        "id": "FzU9pbVby7qH",
        "colab_type": "text"
      },
      "source": [
        "Training model using previous functions"
      ]
    },
    {
      "cell_type": "code",
      "metadata": {
        "id": "CBfGvmefO2Uw",
        "colab_type": "code",
        "colab": {}
      },
      "source": [
        "def train(X, Y, learning_rate=0.1, num_iterations = 100, verbose = True, batch_size=16):\n",
        "  \"\"\"\n",
        "    Arguments:\n",
        "    X -- numpy array containing input data\n",
        "    Y -- numpy array containing real predictions of data\n",
        "    learning rate -- learning rate for the model\n",
        "    num_iterations -- iterations for the model\n",
        "    verbose -- for showing info per iterations\n",
        "    batch_size -- batch size\n",
        "\n",
        "    Returns:\n",
        "    parameters -- numpy dictionary containing learned weights and bias from the data\n",
        "    \"\"\"\n",
        "    grads = {}\n",
        "    costs = []\n",
        "    m = X.shape[0]\n",
        "\n",
        "    #layers [input layer,hidden layers, output layer]\n",
        "    layers_dims = [X.shape[1], 200, 200, 3]\n",
        "\n",
        "    parameters = initialize_parameters_he(layers_dims)\n",
        "    #for param, param_value in parameters.items():\n",
        "     # print(param, param_value.shape)\n",
        "    with tqdm(total=len(range(num_iterations))) as pbar:\n",
        "        for i in range(num_iterations):\n",
        "            n=len(X_train_hist)\n",
        "            for index in range(0,n,batch_size):\n",
        "\n",
        "              AL, cache = forward_propagation(X[index:index+batch_size], parameters)\n",
        "\n",
        "              Y_batch=Y.T[index:index+batch_size]\n",
        "              #print[Y_batch.shape]\n",
        "              cost = compute_loss(AL, Y_batch.T)\n",
        "\n",
        "              grads = backward_propagation(AL, Y_batch.T, cache)\n",
        "\n",
        "              parameters = update_parameters(parameters, grads, learning_rate)\n",
        "            \n",
        "            if verbose:\n",
        "                pbar.set_description(f\"iter: {i+1}/{num_iterations}, loss:{round(cost, 10)}\")\n",
        "\n",
        "            pbar.update(1)\n",
        "            costs.append(cost)\n",
        "    plt.plot(costs)\n",
        "    plt.ylabel(\"cost\")\n",
        "    plt.xlabel(\"iterations\")\n",
        "    plt.title(\"learning rate = \"+ str(learning_rate))\n",
        "    plt.show()\n",
        "\n",
        "    return parameters"
      ],
      "execution_count": 0,
      "outputs": []
    },
    {
      "cell_type": "code",
      "metadata": {
        "id": "Y0ow81nLO2Sb",
        "colab_type": "code",
        "outputId": "b7640489-8b9f-4430-c7aa-ca0b67e9eb1e",
        "colab": {
          "base_uri": "https://localhost:8080/",
          "height": 312
        }
      },
      "source": [
        "parameters = train(X_train_nmf, y_train.T, learning_rate=0.025, batch_size=64)"
      ],
      "execution_count": 0,
      "outputs": [
        {
          "output_type": "stream",
          "text": [
            "iter: 100/100, loss:0.2338048893: 100%|██████████| 100/100 [01:41<00:00,  1.01s/it]\n"
          ],
          "name": "stderr"
        },
        {
          "output_type": "display_data",
          "data": {
            "image/png": "[encoded data removed]",
            "text/plain": [
              "<Figure size 432x288 with 1 Axes>"
            ]
          },
          "metadata": {
            "tags": [],
            "needs_background": "light"
          }
        }
      ]
    },
    {
      "cell_type": "markdown",
      "metadata": {
        "id": "lO3DFkXW0qwc",
        "colab_type": "text"
      },
      "source": [
        "Getting the accuracy of the model"
      ]
    },
    {
      "cell_type": "code",
      "metadata": {
        "id": "im2uZ0lSO2Pf",
        "colab_type": "code",
        "colab": {}
      },
      "source": [
        "def accuracy(X, y, parameters):\n",
        "    m = X.shape[0]\n",
        "    p = np.zeros((m,), dtype=np.int)\n",
        "\n",
        "    a2, _ = forward_propagation(X, parameters)\n",
        "    labels = np.array([one_hot_label.argmax() for one_hot_label in tqdm(y.T, desc=\"Getting labels\")]) \n",
        "    for i in range(0, a2.shape[1]):\n",
        "      p[i] = a2[:,i].argmax()\n",
        "    return np.mean(p == labels)"
      ],
      "execution_count": 0,
      "outputs": []
    },
    {
      "cell_type": "code",
      "metadata": {
        "id": "6yb5Y5O6gpWX",
        "colab_type": "code",
        "outputId": "023a595b-41b0-4393-e97e-666e7586f199",
        "colab": {
          "base_uri": "https://localhost:8080/",
          "height": 101
        }
      },
      "source": [
        "print(accuracy(X_val_hist, y_val.T, parameters))\n",
        "print(\"\\n\",accuracy(X_train_hist, y_train.T, parameters))"
      ],
      "execution_count": 0,
      "outputs": [
        {
          "output_type": "stream",
          "text": [
            "Getting labels: 100%|██████████| 128/128 [00:00<00:00, 32304.65it/s]\n"
          ],
          "name": "stderr"
        },
        {
          "output_type": "stream",
          "text": [
            "0.8828125\n"
          ],
          "name": "stdout"
        },
        {
          "output_type": "stream",
          "text": [
            "Getting labels: 100%|██████████| 298/298 [00:00<00:00, 81373.87it/s]"
          ],
          "name": "stderr"
        },
        {
          "output_type": "stream",
          "text": [
            "\n",
            " 0.9966442953020134\n"
          ],
          "name": "stdout"
        },
        {
          "output_type": "stream",
          "text": [
            "\n"
          ],
          "name": "stderr"
        }
      ]
    }
  ]
}