{
  "nbformat": 4,
  "nbformat_minor": 0,
  "metadata": {
    "colab": {
      "name": "download_covid_dataset.ipynb",
      "provenance": [],
      "collapsed_sections": [],
      "include_colab_link": true
    },
    "kernelspec": {
      "name": "python3",
      "display_name": "Python 3"
    },
    "accelerator": "GPU"
  },
  "cells": [
    {
      "cell_type": "markdown",
      "metadata": {
        "id": "view-in-github",
        "colab_type": "text"
      },
      "source": [
        "<a href=\"https://colab.research.google.com/github/cvillad/covid_xray_model/blob/master/download_covid_dataset.ipynb\" target=\"_parent\"><img src=\"https://colab.research.google.com/assets/colab-badge.svg\" alt=\"Open In Colab\"/></a>"
      ]
    },
    {
      "cell_type": "code",
      "metadata": {
        "id": "NVHd-Xkgy3R_",
        "colab_type": "code",
        "outputId": "1e518f62-ed71-4f01-c605-209b6e40f85c",
        "colab": {
          "base_uri": "https://localhost:8080/",
          "height": 34
        }
      },
      "source": [
        "import os\n",
        "import random\n",
        "import shutil\n",
        "import pandas as pd\n",
        "\n",
        "!pip install imutils\n",
        "\n",
        "from imutils import paths\n",
        "\n",
        "%matplotlib inline"
      ],
      "execution_count": 0,
      "outputs": [
        {
          "output_type": "stream",
          "text": [
            "Requirement already satisfied: imutils in /usr/local/lib/python3.6/dist-packages (0.5.3)\n"
          ],
          "name": "stdout"
        }
      ]
    },
    {
      "cell_type": "code",
      "metadata": {
        "id": "naupvuep57hr",
        "colab_type": "code",
        "outputId": "b6720b04-31cb-49c9-9494-e3974996f1d3",
        "colab": {
          "base_uri": "https://localhost:8080/",
          "height": 50
        }
      },
      "source": [
        "from google.colab import drive\n",
        "drive.mount('/content/gdrive')\n",
        "project_path = '/content/gdrive/Shared drives/Data Mining Project/Kaggle/covid19-xray'\n",
        "dataset_path = '/content/gdrive/Shared drives/Data Mining Project/dataset'\n",
        "os.environ['KAGGLE_CONFIG_DIR'] = '/content/gdrive/Shared drives/Data Mining Project/Kaggle'\n",
        "\n",
        "%cd /content/gdrive/Shared drives/Data Mining Project/Kaggle/covid19-xray"
      ],
      "execution_count": 0,
      "outputs": [
        {
          "output_type": "stream",
          "text": [
            "Drive already mounted at /content/gdrive; to attempt to forcibly remount, call drive.mount(\"/content/gdrive\", force_remount=True).\n",
            "/content/gdrive/Shared drives/Data Mining Project/Kaggle/covid19-xray\n"
          ],
          "name": "stdout"
        }
      ]
    },
    {
      "cell_type": "code",
      "metadata": {
        "id": "oPLoqqRb4-hz",
        "colab_type": "code",
        "colab": {}
      },
      "source": [
        "%%bash\n",
        "rm -rf ../../dataset\n",
        "mkdir -p ../../dataset/covid\n",
        "mkdir -p ../../dataset/normal\n",
        "mkdir -p ../../dataset/pneumonia\n",
        "mkdir -p input/covid-chest-xray\n",
        "mkdir -p input/chest-xray-pneumonia/chest_xray"
      ],
      "execution_count": 0,
      "outputs": []
    },
    {
      "cell_type": "code",
      "metadata": {
        "id": "ulwQgVW26jNT",
        "colab_type": "code",
        "outputId": "df9b7d8d-7199-478a-ec06-1a4ee5ce07a5",
        "colab": {
          "base_uri": "https://localhost:8080/",
          "height": 84
        }
      },
      "source": [
        "# download covid dataset\n",
        "covid_dataset_path = project_path + '/input/covid-chest-xray'\n",
        "%cd /content/gdrive/Shared drives/Data Mining Project/Kaggle/covid19-xray/input/covid-chest-xray\n",
        "\n",
        "!kaggle datasets download -d bachrr/covid-chest-xray\n",
        "!unzip -qq \\*.zip\n",
        "%rm *.zip"
      ],
      "execution_count": 0,
      "outputs": [
        {
          "output_type": "stream",
          "text": [
            "/content/gdrive/Shared drives/Data Mining Project/Kaggle/covid19-xray/input/covid-chest-xray\n",
            "Downloading covid-chest-xray.zip to /content/gdrive/Shared drives/Data Mining Project/Kaggle/covid19-xray/input/covid-chest-xray\n",
            " 99% 209M/211M [00:05<00:00, 93.7MB/s]\n",
            "100% 211M/211M [00:05<00:00, 40.0MB/s]\n"
          ],
          "name": "stdout"
        }
      ]
    },
    {
      "cell_type": "code",
      "metadata": {
        "id": "qr5T4F-W7ahX",
        "colab_type": "code",
        "colab": {}
      },
      "source": [
        "# construct the path to the metadata CSV file and load it\n",
        "csvPath = os.path.sep.join([covid_dataset_path, \"metadata.csv\"])\n",
        "df = pd.read_csv(csvPath)\n",
        "\n",
        "# loop over the rows of the COVID-19 data frame\n",
        "for (i, row) in df.iterrows():\n",
        "    # if (1) the current case is not COVID-19 or (2) this is not\n",
        "    # a 'PA' view, then ignore the row\n",
        "    if row[\"view\"] != \"PA\" or row[\"finding\"]!=\"COVID-19\":\n",
        "        continue\n",
        "\n",
        "    # build the path to the input image file\n",
        "    imagePath = os.path.sep.join([covid_dataset_path, \"images\", row[\"filename\"]])\n",
        "\n",
        "    # if the input image file does not exist (there are some errors in\n",
        "    # the COVID-19 metadeta file), ignore the row\n",
        "    if not os.path.exists(imagePath):\n",
        "        continue\n",
        "\n",
        "    filename = row[\"filename\"].split(os.path.sep)[-1]\n",
        "    outputPath = os.path.sep.join([f\"{dataset_path}/covid\", filename])\n",
        "\n",
        "    # extract the filename from the image path and then construct the\n",
        "    # path to the copied image file\n",
        "\n",
        "    # copy the image\n",
        "    shutil.copy2(imagePath, outputPath)"
      ],
      "execution_count": 0,
      "outputs": []
    },
    {
      "cell_type": "code",
      "metadata": {
        "id": "qx3FVBiV5GeD",
        "colab_type": "code",
        "outputId": "0e64997b-df09-4cfc-df9b-051dd4c43c58",
        "colab": {
          "base_uri": "https://localhost:8080/",
          "height": 101
        }
      },
      "source": [
        "# download pneumonia dataset\n",
        "pneumonia_dataset_path = project_path + '/input/chest-xray-pneumonia/chest_xray'\n",
        "%cd /content/gdrive/Shared drives/Data Mining Project/Kaggle/covid19-xray/input/chest-xray-pneumonia\n",
        "\n",
        "!kaggle datasets download -d paultimothymooney/chest-xray-pneumonia\n",
        "!unzip -qq \\*.zip\n",
        "%rm *.zip"
      ],
      "execution_count": 0,
      "outputs": [
        {
          "output_type": "stream",
          "text": [
            "/content/gdrive/Shared drives/Data Mining Project/Kaggle/covid19-xray/input/chest-xray-pneumonia\n",
            "Downloading chest-xray-pneumonia.zip to /content/gdrive/Shared drives/Data Mining Project/Kaggle/covid19-xray/input/chest-xray-pneumonia\n",
            "100% 2.29G/2.29G [00:32<00:00, 31.9MB/s]\n",
            "100% 2.29G/2.29G [00:32<00:00, 76.3MB/s]\n",
            "\n"
          ],
          "name": "stdout"
        }
      ]
    },
    {
      "cell_type": "code",
      "metadata": {
        "id": "IcWqRgUw8CN2",
        "colab_type": "code",
        "colab": {}
      },
      "source": [
        "# build normal xray dataset\n",
        "samples = 150\n",
        "random_seed=40\n",
        "basePath = os.path.sep.join([pneumonia_dataset_path, \"train\", \"NORMAL\"])\n",
        "imagePaths = list(paths.list_images(basePath))\n",
        "\n",
        "# randomly sample the image paths\n",
        "random.seed(random_seed)\n",
        "random.shuffle(imagePaths)\n",
        "imagePaths = imagePaths[:samples]\n",
        "\n",
        "# loop over the image paths\n",
        "for (i, imagePath) in enumerate(imagePaths):\n",
        "    # extract the filename from the image path and then construct the\n",
        "    # path to the copied image file\n",
        "    filename = imagePath.split(os.path.sep)[-1]\n",
        "    outputPath = os.path.sep.join([f\"{dataset_path}/normal\", filename])\n",
        "\n",
        "    # copy the image\n",
        "    shutil.copy2(imagePath, outputPath)"
      ],
      "execution_count": 0,
      "outputs": []
    },
    {
      "cell_type": "code",
      "metadata": {
        "id": "alUS4kiz6z3A",
        "colab_type": "code",
        "colab": {}
      },
      "source": [
        "# build pneumonia xray dataset\n",
        "samples = 150\n",
        "basePath = os.path.sep.join([pneumonia_dataset_path, \"train\", \"PNEUMONIA\"])\n",
        "imagePaths = list(paths.list_images(basePath))\n",
        "\n",
        "# randomly sample the image paths\n",
        "random.seed(random_seed)\n",
        "random.shuffle(imagePaths)\n",
        "imagePaths = imagePaths[:samples]\n",
        "\n",
        "# loop over the image paths\n",
        "for (i, imagePath) in enumerate(imagePaths):\n",
        "    # extract the filename from the image path and then construct the\n",
        "    # path to the copied image file\n",
        "    filename = imagePath.split(os.path.sep)[-1]\n",
        "    outputPath = os.path.sep.join([f\"{dataset_path}/pneumonia\", filename])\n",
        "\n",
        "    # copy the image\n",
        "    shutil.copy2(imagePath, outputPath)"
      ],
      "execution_count": 0,
      "outputs": []
    }
  ]
}